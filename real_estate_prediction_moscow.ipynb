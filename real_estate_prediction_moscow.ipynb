{
 "cells": [
  {
   "cell_type": "markdown",
   "source": [
    "# Курсовой проект #1\n",
    "\n",
    "## Прогнозирование цены на квартиру в Москве по имеющимся характеристикам\n",
    "\n",
    "Описание файлов с данными:\n",
    "\n",
    "* train.csv - данные для обучения модели\n",
    "* test.csv - данные для тестирования и оценки обученной модели\n",
    "* sampleSubmission.csv - пример отчетного файла в требуемом формате\n",
    "\n",
    "Описание полей в таблице данных:\n",
    "\n",
    "* Id - идентификационный номер квартиры\n",
    "* DistrictId - идентификационный номер района\n",
    "* Rooms - количество комнат\n",
    "* Square - площадь\n",
    "* LifeSquare - жилая площадь\n",
    "* KitchenSquare - площадь кухни\n",
    "* Floor - этаж\n",
    "* HouseFloor - количество этажей в доме\n",
    "* HouseYear - год постройки дома\n",
    "* Ecology_1, Ecology_2, Ecology_3 - экологические показатели местности\n",
    "* Social_1, Social_2, Social_3 - социальные показатели местности\n",
    "* Healthcare_1, Helthcare_2 - показатели местности, связанные с охраной здоровья\n",
    "* Shops_1, Shops_2 - показатели, связанные с наличием магазинов, торговых центров\n",
    "* Price - цена квартиры"
   ],
   "metadata": {
    "collapsed": false,
    "pycharm": {
     "name": "#%% md\n"
    }
   }
  },
  {
   "cell_type": "markdown",
   "source": [
    "Загрузка библиотек"
   ],
   "metadata": {
    "collapsed": false,
    "pycharm": {
     "name": "#%% md\n"
    }
   }
  },
  {
   "cell_type": "code",
   "execution_count": 108,
   "metadata": {
    "collapsed": true,
    "pycharm": {
     "name": "#%%\n"
    }
   },
   "outputs": [],
   "source": [
    "import pandas as pd\n",
    "import seaborn as sns\n",
    "import numpy as np\n",
    "\n",
    "from sklearn.model_selection import train_test_split\n",
    "from sklearn.cluster import KMeans, DBSCAN\n",
    "from sklearn.neighbors import KNeighborsClassifier\n",
    "from sklearn.model_selection import train_test_split, KFold\n",
    "from sklearn.metrics import r2_score\n",
    "from sklearn.ensemble import GradientBoostingRegressor\n",
    "from sklearn.model_selection import cross_val_score\n",
    "from sklearn.preprocessing import RobustScaler\n",
    "\n",
    "import matplotlib\n",
    "import matplotlib.pyplot as plt\n",
    "matplotlib.rcParams.update({'font.size': 14})"
   ]
  },
  {
   "cell_type": "markdown",
   "source": [
    "Загрузка датасета"
   ],
   "metadata": {
    "collapsed": false,
    "pycharm": {
     "name": "#%% md\n"
    }
   }
  },
  {
   "cell_type": "code",
   "execution_count": 109,
   "outputs": [],
   "source": [
    "# DATA_PATH_DIRECTORY = '/real-estate-price-prediction-moscow/'\n",
    "raw_train_data = pd.read_csv('train.csv')\n",
    "test_data = pd.read_csv('test.csv')"
   ],
   "metadata": {
    "collapsed": false,
    "pycharm": {
     "name": "#%%\n"
    }
   }
  },
  {
   "cell_type": "markdown",
   "source": [
    "Класс с методами предобработки данных.\n",
    "Включает в себя уменьшение размера памяти из лекций.\n",
    "\n",
    "* Очистка:\n",
    "    * Убираем все неправильные года. Заменяем их на произвольный 2000. Этих случаев мало, поэтому не страшно.\n",
    "    * Если площадь кухни слишком большая, значит, скорее всего ошибка в данных. Заменим на примерную. Я смотрела отношение, как-то так и есть. Этих строк тоже мало.\n",
    "    * С площадью то же самое. Их тоже мало, можно просто разделить. Там ошибка скорее всего.\n",
    "    * С комнатами - то же. Если очень много, значит опечатка. Тоже посмотрела, примерно такое отношение площадь/комнаты.\n",
    "    * И замена всех категориальных численными. Просто по словарю. В данном случае так вполне сойдет.\n",
    "* fix_life_square метод подгона пропущенных данных в поле LifeSquare. Использую gradientBoostingRegressor.\n",
    "* fix_healhcare_1 то же самое для соотвествующего поля"
   ],
   "metadata": {
    "collapsed": false,
    "pycharm": {
     "name": "#%% md\n"
    }
   }
  },
  {
   "cell_type": "code",
   "execution_count": 110,
   "outputs": [],
   "source": [
    "class Preprocessor:\n",
    "    \"\"\"Предобработка данных\"\"\"\n",
    "\n",
    "\n",
    "    def __init__(self):\n",
    "        self.features = []\n",
    "        self.replace_dict = {'A': 1, 'B': 0}\n",
    "        self.gbr_LifeSquare = 0\n",
    "        self.gbr_hc1 = 0\n",
    "\n",
    "    def show_distribution(self, df, col):\n",
    "        \"\"\"\"\"\"\n",
    "\n",
    "        sns.displot(df[col], height=5, aspect=1.5, bins=14, kde=True)\n",
    "        plt.title(col + ' Distribution')\n",
    "\n",
    "    @staticmethod\n",
    "    def reduce_mem_usage(df: pd.DataFrame) -> pd.DataFrame:\n",
    "        \"\"\" iterate through all the columns of a dataframe and modify the data type\n",
    "            to reduce memory usage.\n",
    "        \"\"\"\n",
    "        start_mem = df.memory_usage().sum() / 1024**2\n",
    "        print('Memory usage of dataframe is {:.2f} MB'.format(start_mem))\n",
    "\n",
    "        for col in df.columns:\n",
    "            col_type = df[col].dtype\n",
    "\n",
    "            if col_type != object:\n",
    "                c_min = df[col].min()\n",
    "                c_max = df[col].max()\n",
    "                if str(col_type)[:3] == 'int':\n",
    "                    if c_min > np.iinfo(np.int8).min and c_max < np.iinfo(np.int8).max:\n",
    "                        df[col] = df[col].astype(np.int8)\n",
    "                    elif c_min > np.iinfo(np.int16).min and c_max < np.iinfo(np.int16).max:\n",
    "                        df[col] = df[col].astype(np.int16)\n",
    "                    elif c_min > np.iinfo(np.int32).min and c_max < np.iinfo(np.int32).max:\n",
    "                        df[col] = df[col].astype(np.int32)\n",
    "                    elif c_min > np.iinfo(np.int64).min and c_max < np.iinfo(np.int64).max:\n",
    "                        df[col] = df[col].astype(np.int64)\n",
    "                else:\n",
    "                    if c_min > np.finfo(np.float32).min and c_max < np.finfo(np.float32).max:\n",
    "                        df[col] = df[col].astype(np.float32)\n",
    "                    else:\n",
    "                        df[col] = df[col].astype(np.float64)\n",
    "            else:\n",
    "                df[col] = df[col].astype('category')\n",
    "\n",
    "        end_mem = df.memory_usage().sum() / 1024**2\n",
    "        print('Memory usage after optimization is: {:.2f} MB'.format(end_mem))\n",
    "        print('Decreased by {:.1f}%'.format(100 * (start_mem - end_mem) / start_mem))\n",
    "\n",
    "        return df\n",
    "\n",
    "    def clear(self, df):\n",
    "\n",
    "        df = self.reduce_mem_usage(df)\n",
    "\n",
    "        df.loc[df['HouseYear'] > 2022, 'HouseYear'] = 2000\n",
    "\n",
    "        df.loc[df['KitchenSquare'] > 100, 'KitchenSquare'] =\\\n",
    "            (df['Square'] / 7).__round__()\n",
    "\n",
    "        df.loc[df['Square'] > 500, 'Square'] = df['Square'] / 10\n",
    "\n",
    "        df.loc[(df['Rooms'] == 0) | (df['Rooms'] > 6), 'Rooms'] =\\\n",
    "            (df['Square'] / 30).__round__()\n",
    "\n",
    "        df.replace(self.replace_dict, inplace=True)\n",
    "\n",
    "        return df\n",
    "\n",
    "    # def fill_na_LifeSquare(self, X):\n",
    "    #\n",
    "    #     return self.gbr_LifeSquare.predict(X)\n",
    "    #\n",
    "    # def fill_na_Healthcare1(self, X):\n",
    "    #\n",
    "    #     return self.gbr_hc1.predict(X)\n",
    "\n",
    "    def fix_life_square(self, df):\n",
    "\n",
    "        mask = df['LifeSquare'].isna()\n",
    "        mask2 = df['LifeSquare'] > 100\n",
    "\n",
    "        x_cols = ['Square', 'HouseYear', 'KitchenSquare', 'Social_1', 'Ecology_1']\n",
    "\n",
    "        X_ls = df.loc[~(mask | mask2), x_cols]\n",
    "        y_ls = df.loc[~(mask | mask2), 'LifeSquare']\n",
    "\n",
    "        if not self.gbr_LifeSquare:\n",
    "            self.gbr_LifeSquare = GradientBoostingRegressor(criterion='squared_error',\n",
    "                                                            max_depth=5,\n",
    "                                                            min_samples_leaf=5,\n",
    "                                                            random_state=42,\n",
    "                                                            n_estimators=200)\n",
    "            self.gbr_LifeSquare.fit(X_ls, y_ls)\n",
    "\n",
    "        y_ls_pred = self.gbr_LifeSquare.predict(X_ls)\n",
    "        print('R2 for LifeSquare training set: ' + str(r2_score(y_ls, y_ls_pred)))\n",
    "\n",
    "        df.loc[mask | mask2, 'LifeSquare'] = self.gbr_LifeSquare.predict(\n",
    "            df.loc[mask | mask2, x_cols])\n",
    "\n",
    "        sns.displot(df['LifeSquare'], height=5, aspect=1.5, bins=14)\n",
    "\n",
    "        return df\n",
    "\n",
    "    def fix_healthcare_1(self, df):\n",
    "\n",
    "        mask = df['Healthcare_1'].isna()\n",
    "\n",
    "        cols = ['DistrictId', 'HouseYear', 'Shops_1', 'Helthcare_2']\n",
    "\n",
    "        X_hc1 = df.loc[~mask, cols]\n",
    "        y_hc1 = df.loc[~mask, 'Healthcare_1']\n",
    "\n",
    "        if not self.gbr_hc1:\n",
    "            self.gbr_hc1 = GradientBoostingRegressor(criterion='squared_error',\n",
    "                                                     max_depth=5,\n",
    "                                                     min_samples_leaf=5,\n",
    "                                                     random_state=21,\n",
    "                                                     n_estimators=300)\n",
    "            self.gbr_hc1.fit(X_hc1, y_hc1)\n",
    "\n",
    "        y_hc1_pred = self.gbr_hc1.predict(X_hc1)\n",
    "\n",
    "        print('R2 for Healthcare_1 training set: ' + str(r2_score(y_hc1, y_hc1_pred)))\n",
    "\n",
    "        df.loc[mask, 'Healthcare_1'] = self.gbr_hc1.predict(df.loc[mask, cols])\n",
    "\n",
    "        sns.displot(df['Healthcare_1'], height=5, aspect=1.5, bins=14)\n",
    "\n",
    "        return df"
   ],
   "metadata": {
    "collapsed": false,
    "pycharm": {
     "name": "#%%\n"
    }
   }
  },
  {
   "cell_type": "markdown",
   "source": [
    "Вспомогательный класс, которые содержит методы, добавляющие признаки."
   ],
   "metadata": {
    "collapsed": false,
    "pycharm": {
     "name": "#%% md\n"
    }
   }
  },
  {
   "cell_type": "code",
   "execution_count": 111,
   "outputs": [],
   "source": [
    "class Features:\n",
    "\n",
    "    def __init__(self, df):\n",
    "        self.counter = 0\n",
    "        self.groups = []\n",
    "        self.district_size_df = 1\n",
    "        self.kmeans = 0\n",
    "\n",
    "    def add_price_per_meter(self, df):\n",
    "\n",
    "        df['Price/m2'] = df['Price'] / df['Square']\n",
    "        df.loc[df['Price/m2'] > 10000, 'Price/m2'] = df['Price/m2'].median()\n",
    "\n",
    "        return df\n",
    "\n",
    "    @staticmethod\n",
    "    def display_clusters_distribution(unique, counts):\n",
    "        \"\"\"Визуализация распределения классов по кластерам\"\"\"\n",
    "        plt.figure(figsize=(8,5))\n",
    "\n",
    "        plt.bar(unique, counts)\n",
    "\n",
    "        plt.xlabel('Clusters')\n",
    "        plt.xticks(unique)\n",
    "        plt.ylabel('Count')\n",
    "        plt.title('Clusters distribution')\n",
    "        plt.show()\n",
    "\n",
    "    def add_district_size(self, df):\n",
    "\n",
    "        if isinstance(self.district_size_df, int):\n",
    "            self.district_size_df = df['DistrictId'].value_counts().reset_index()\\\n",
    "                .rename(columns={'index':'DistrictId', 'DistrictId':'DistrictSize'})\n",
    "\n",
    "        df = df.merge(self.district_size_df, on='DistrictId', how='left')\n",
    "        df.loc[df['DistrictSize'] < 10, 'DistrictId'] = -1\n",
    "        df['DistrictSize'].fillna(-1, inplace=True)\n",
    "\n",
    "        return df\n",
    "\n",
    "    def new(self, col_1, col_2, df):\n",
    "\n",
    "        new_col_name = 'Med' + str(self.counter) + col_2\n",
    "\n",
    "        groupdf = df.groupby(col_1, as_index=False).agg({col_2: 'median'}).\\\n",
    "            rename(columns={col_2: new_col_name})\n",
    "        self.groups.append(groupdf)\n",
    "\n",
    "        df = df.merge(groupdf, on=col_1, how='left')\n",
    "        df[new_col_name].fillna(df[new_col_name].median(), inplace=True)\n",
    "\n",
    "        self.counter += 1\n",
    "\n",
    "        return df\n",
    "\n",
    "    def append_all_added_features(self, df_1):\n",
    "\n",
    "        for i in range(len(self.groups)):\n",
    "            col_name = self.groups[i].columns.to_list()\n",
    "            df_1 = df_1.merge(self.groups[i], on=col_name[:-1], how='left')\n",
    "            df_1[col_name[-1]].fillna(df_1[col_name[-1]].median(), inplace=True)\n",
    "\n",
    "        return df_1\n",
    "\n",
    "    def clusterize_kmeans(self, df):\n",
    "\n",
    "        # cols_4_kmeans = ['DistrictId', 'Square', 'LifeSquare', 'KitchenSquare']\n",
    "        cols_4_kmeans = ['Med3Price/m2']\n",
    "\n",
    "        scaler = RobustScaler()\n",
    "        df_scaled = scaler.fit_transform(df.drop(['Price', 'Price/m2'], axis=1))\n",
    "\n",
    "        if not self.kmeans:\n",
    "            self.kmeans = KMeans(n_clusters=7, random_state=36)\n",
    "            self.kmeans.fit(df_scaled)\n",
    "\n",
    "        clust_kmeans = self.kmeans.predict(df_scaled)\n",
    "\n",
    "        clusters_dummies = pd.get_dummies(clust_kmeans, drop_first=True, prefix='clusters_')\n",
    "\n",
    "        df = pd.concat([df, clusters_dummies], axis=1)\n",
    "\n",
    "        unique, counts = np.unique(clust_kmeans, return_counts=True)\n",
    "        self.display_clusters_distribution(unique, counts)\n",
    "\n",
    "        return df\n",
    "\n",
    "    def clust_dbscan(self, df, eps=1):\n",
    "\n",
    "        scaler = RobustScaler()\n",
    "        df_scaled = scaler.fit_transform(df.drop(['Price', 'Price/m2'], axis=1))\n",
    "\n",
    "        dbscan = DBSCAN(eps=eps, min_samples=50)\n",
    "        labels_clast = dbscan.fit_predict(df_scaled)\n",
    "        labels_clast = pd.Series(labels_clast, name='clusters_dbscan')\n",
    "        clusters_dummies = pd.get_dummies(labels_clast, drop_first=True, prefix='clusters_')\n",
    "\n",
    "        df = pd.concat([df, clusters_dummies], axis=1)\n",
    "\n",
    "        unique, counts = np.unique(labels_clast, return_counts=True)\n",
    "        self.display_clusters_distribution(unique, counts)\n",
    "\n",
    "        return df"
   ],
   "metadata": {
    "collapsed": false,
    "pycharm": {
     "name": "#%%\n"
    }
   }
  },
  {
   "cell_type": "markdown",
   "source": [
    "Класс, описывающий модель."
   ],
   "metadata": {
    "collapsed": false,
    "pycharm": {
     "name": "#%% md\n"
    }
   }
  },
  {
   "cell_type": "code",
   "execution_count": 112,
   "outputs": [],
   "source": [
    "class Model:\n",
    "\n",
    "    def __init__(self):\n",
    "\n",
    "        self.gbr_model = GradientBoostingRegressor(criterion='squared_error',\n",
    "                                                   max_depth=5,\n",
    "                                                   min_samples_leaf=5,\n",
    "                                                   random_state=21,\n",
    "                                                   n_estimators=200)\n",
    "\n",
    "    def fit(self, X, y):\n",
    "\n",
    "        self.columns = X.columns\n",
    "        self.gbr_model.fit(X, y)\n",
    "\n",
    "    def cross_val(self, X, y):\n",
    "\n",
    "        cv_score = cross_val_score(self.gbr_model,\n",
    "                                   X,\n",
    "                                   y,\n",
    "                                   scoring='r2',\n",
    "                                   cv=KFold(n_splits=7, shuffle=True, random_state=21))\n",
    "\n",
    "        print('CrossVal mean value: ', np.mean(cv_score))\n",
    "\n",
    "    def predict(self, X):\n",
    "\n",
    "        return self.gbr_model.predict(X)\n",
    "\n",
    "    def show_feature_importances(self):\n",
    "\n",
    "        feature_importances = pd.DataFrame(zip(self.columns, self.gbr_model.feature_importances_),\n",
    "                                           columns=['feature_name', 'importance'])\n",
    "\n",
    "        print(feature_importances.sort_values(by='importance', ascending=False))\n",
    "\n",
    "    def r2(self, y_true, y_pred):\n",
    "\n",
    "        print('R2 : ' + str(r2_score(y_true, y_pred)))\n",
    "\n",
    "    @staticmethod\n",
    "    def create_csv(y_pred, overwrite=False):\n",
    "\n",
    "        result = pd.DataFrame(y_pred, columns=['Price'])\n",
    "        result.set_index(test_data['Id'], inplace=True)\n",
    "\n",
    "        print(result)\n",
    "\n",
    "        if overwrite:\n",
    "            result.to_csv('AllaMaksina_predictions_32987.csv')"
   ],
   "metadata": {
    "collapsed": false,
    "pycharm": {
     "name": "#%%\n"
    }
   }
  },
  {
   "cell_type": "code",
   "execution_count": 113,
   "outputs": [
    {
     "data": {
      "text/plain": "       Ecology_2 Ecology_3 Shops_2\ncount      10000     10000   10000\nunique         2         2       2\ntop            B         B       B\nfreq        9903      9725    9175",
      "text/html": "<div>\n<style scoped>\n    .dataframe tbody tr th:only-of-type {\n        vertical-align: middle;\n    }\n\n    .dataframe tbody tr th {\n        vertical-align: top;\n    }\n\n    .dataframe thead th {\n        text-align: right;\n    }\n</style>\n<table border=\"1\" class=\"dataframe\">\n  <thead>\n    <tr style=\"text-align: right;\">\n      <th></th>\n      <th>Ecology_2</th>\n      <th>Ecology_3</th>\n      <th>Shops_2</th>\n    </tr>\n  </thead>\n  <tbody>\n    <tr>\n      <th>count</th>\n      <td>10000</td>\n      <td>10000</td>\n      <td>10000</td>\n    </tr>\n    <tr>\n      <th>unique</th>\n      <td>2</td>\n      <td>2</td>\n      <td>2</td>\n    </tr>\n    <tr>\n      <th>top</th>\n      <td>B</td>\n      <td>B</td>\n      <td>B</td>\n    </tr>\n    <tr>\n      <th>freq</th>\n      <td>9903</td>\n      <td>9725</td>\n      <td>9175</td>\n    </tr>\n  </tbody>\n</table>\n</div>"
     },
     "execution_count": 113,
     "metadata": {},
     "output_type": "execute_result"
    }
   ],
   "source": [
    "df = raw_train_data.copy()\n",
    "temp_df = df.select_dtypes(include='object')\n",
    "temp_df.describe()"
   ],
   "metadata": {
    "collapsed": false,
    "pycharm": {
     "name": "#%%\n"
    }
   }
  },
  {
   "cell_type": "code",
   "execution_count": 114,
   "outputs": [
    {
     "name": "stdout",
     "output_type": "stream",
     "text": [
      "['B' 'A']\n",
      "['B' 'A']\n",
      "['B' 'A']\n"
     ]
    }
   ],
   "source": [
    "for col in temp_df.columns.tolist():\n",
    "    print(temp_df[col].unique())"
   ],
   "metadata": {
    "collapsed": false,
    "pycharm": {
     "name": "#%%\n"
    }
   }
  },
  {
   "cell_type": "markdown",
   "source": [
    "Видно, что есть 3 категориальных поля и остальные количественные. Видно их распределение. Можно просто заменить по словарю."
   ],
   "metadata": {
    "collapsed": false,
    "pycharm": {
     "name": "#%% md\n"
    }
   }
  },
  {
   "cell_type": "markdown",
   "source": [
    "Поле Id"
   ],
   "metadata": {
    "collapsed": false,
    "pycharm": {
     "name": "#%% md\n"
    }
   }
  },
  {
   "cell_type": "code",
   "execution_count": 115,
   "outputs": [
    {
     "data": {
      "text/plain": "10000"
     },
     "execution_count": 115,
     "metadata": {},
     "output_type": "execute_result"
    }
   ],
   "source": [
    "df['Id'].nunique()"
   ],
   "metadata": {
    "collapsed": false,
    "pycharm": {
     "name": "#%%\n"
    }
   }
  },
  {
   "cell_type": "markdown",
   "source": [
    "Вряд ли оно на что-то влияет. Судя по названию, это просто идентификационный номер. Удалим его."
   ],
   "metadata": {
    "collapsed": false,
    "pycharm": {
     "name": "#%% md\n"
    }
   }
  },
  {
   "cell_type": "code",
   "execution_count": 116,
   "outputs": [],
   "source": [
    "df.drop('Id', axis=1, inplace=True)"
   ],
   "metadata": {
    "collapsed": false,
    "pycharm": {
     "name": "#%%\n"
    }
   }
  },
  {
   "cell_type": "markdown",
   "source": [
    "Создадим объект, который будет чистить данные."
   ],
   "metadata": {
    "collapsed": false,
    "pycharm": {
     "name": "#%% md\n"
    }
   }
  },
  {
   "cell_type": "code",
   "execution_count": 117,
   "outputs": [],
   "source": [
    "preproc = Preprocessor()"
   ],
   "metadata": {
    "collapsed": false,
    "pycharm": {
     "name": "#%%\n"
    }
   }
  },
  {
   "cell_type": "code",
   "execution_count": 118,
   "outputs": [
    {
     "data": {
      "text/plain": "         DistrictId         Rooms        Square   LifeSquare  KitchenSquare  \\\ncount  10000.000000  10000.000000  10000.000000  7887.000000   10000.000000   \nmean      50.400800      1.890500     56.315775    37.199645       6.273300   \nstd       43.587592      0.839512     21.058732    86.241209      28.560917   \nmin        0.000000      0.000000      1.136859     0.370619       0.000000   \n25%       20.000000      1.000000     41.774881    22.769832       1.000000   \n50%       36.000000      2.000000     52.513310    32.781260       6.000000   \n75%       75.000000      2.000000     65.900625    45.128803       9.000000   \nmax      209.000000     19.000000    641.065193  7480.592129    2014.000000   \n\n              Floor    HouseFloor     HouseYear     Ecology_1      Social_1  \\\ncount  10000.000000  10000.000000  1.000000e+04  10000.000000  10000.000000   \nmean       8.526700     12.609400  3.990166e+03      0.118858     24.687000   \nstd        5.241148      6.775974  2.005003e+05      0.119025     17.532614   \nmin        1.000000      0.000000  1.910000e+03      0.000000      0.000000   \n25%        4.000000      9.000000  1.974000e+03      0.017647      6.000000   \n50%        7.000000     13.000000  1.977000e+03      0.075424     25.000000   \n75%       12.000000     17.000000  2.001000e+03      0.195781     36.000000   \nmax       42.000000    117.000000  2.005201e+07      0.521867     74.000000   \n\n           Social_2      Social_3  Healthcare_1   Helthcare_2       Shops_1  \\\ncount  10000.000000  10000.000000   5202.000000  10000.000000  10000.000000   \nmean    5352.157400      8.039200   1142.904460      1.319500      4.231300   \nstd     4006.799803     23.831875   1021.517264      1.493601      4.806341   \nmin      168.000000      0.000000      0.000000      0.000000      0.000000   \n25%     1564.000000      0.000000    350.000000      0.000000      1.000000   \n50%     5285.000000      2.000000    900.000000      1.000000      3.000000   \n75%     7227.000000      5.000000   1548.000000      2.000000      6.000000   \nmax    19083.000000    141.000000   4849.000000      6.000000     23.000000   \n\n               Price  \ncount   10000.000000  \nmean   214138.857399  \nstd     92872.293865  \nmin     59174.778028  \n25%    153872.633942  \n50%    192269.644879  \n75%    249135.462171  \nmax    633233.466570  ",
      "text/html": "<div>\n<style scoped>\n    .dataframe tbody tr th:only-of-type {\n        vertical-align: middle;\n    }\n\n    .dataframe tbody tr th {\n        vertical-align: top;\n    }\n\n    .dataframe thead th {\n        text-align: right;\n    }\n</style>\n<table border=\"1\" class=\"dataframe\">\n  <thead>\n    <tr style=\"text-align: right;\">\n      <th></th>\n      <th>DistrictId</th>\n      <th>Rooms</th>\n      <th>Square</th>\n      <th>LifeSquare</th>\n      <th>KitchenSquare</th>\n      <th>Floor</th>\n      <th>HouseFloor</th>\n      <th>HouseYear</th>\n      <th>Ecology_1</th>\n      <th>Social_1</th>\n      <th>Social_2</th>\n      <th>Social_3</th>\n      <th>Healthcare_1</th>\n      <th>Helthcare_2</th>\n      <th>Shops_1</th>\n      <th>Price</th>\n    </tr>\n  </thead>\n  <tbody>\n    <tr>\n      <th>count</th>\n      <td>10000.000000</td>\n      <td>10000.000000</td>\n      <td>10000.000000</td>\n      <td>7887.000000</td>\n      <td>10000.000000</td>\n      <td>10000.000000</td>\n      <td>10000.000000</td>\n      <td>1.000000e+04</td>\n      <td>10000.000000</td>\n      <td>10000.000000</td>\n      <td>10000.000000</td>\n      <td>10000.000000</td>\n      <td>5202.000000</td>\n      <td>10000.000000</td>\n      <td>10000.000000</td>\n      <td>10000.000000</td>\n    </tr>\n    <tr>\n      <th>mean</th>\n      <td>50.400800</td>\n      <td>1.890500</td>\n      <td>56.315775</td>\n      <td>37.199645</td>\n      <td>6.273300</td>\n      <td>8.526700</td>\n      <td>12.609400</td>\n      <td>3.990166e+03</td>\n      <td>0.118858</td>\n      <td>24.687000</td>\n      <td>5352.157400</td>\n      <td>8.039200</td>\n      <td>1142.904460</td>\n      <td>1.319500</td>\n      <td>4.231300</td>\n      <td>214138.857399</td>\n    </tr>\n    <tr>\n      <th>std</th>\n      <td>43.587592</td>\n      <td>0.839512</td>\n      <td>21.058732</td>\n      <td>86.241209</td>\n      <td>28.560917</td>\n      <td>5.241148</td>\n      <td>6.775974</td>\n      <td>2.005003e+05</td>\n      <td>0.119025</td>\n      <td>17.532614</td>\n      <td>4006.799803</td>\n      <td>23.831875</td>\n      <td>1021.517264</td>\n      <td>1.493601</td>\n      <td>4.806341</td>\n      <td>92872.293865</td>\n    </tr>\n    <tr>\n      <th>min</th>\n      <td>0.000000</td>\n      <td>0.000000</td>\n      <td>1.136859</td>\n      <td>0.370619</td>\n      <td>0.000000</td>\n      <td>1.000000</td>\n      <td>0.000000</td>\n      <td>1.910000e+03</td>\n      <td>0.000000</td>\n      <td>0.000000</td>\n      <td>168.000000</td>\n      <td>0.000000</td>\n      <td>0.000000</td>\n      <td>0.000000</td>\n      <td>0.000000</td>\n      <td>59174.778028</td>\n    </tr>\n    <tr>\n      <th>25%</th>\n      <td>20.000000</td>\n      <td>1.000000</td>\n      <td>41.774881</td>\n      <td>22.769832</td>\n      <td>1.000000</td>\n      <td>4.000000</td>\n      <td>9.000000</td>\n      <td>1.974000e+03</td>\n      <td>0.017647</td>\n      <td>6.000000</td>\n      <td>1564.000000</td>\n      <td>0.000000</td>\n      <td>350.000000</td>\n      <td>0.000000</td>\n      <td>1.000000</td>\n      <td>153872.633942</td>\n    </tr>\n    <tr>\n      <th>50%</th>\n      <td>36.000000</td>\n      <td>2.000000</td>\n      <td>52.513310</td>\n      <td>32.781260</td>\n      <td>6.000000</td>\n      <td>7.000000</td>\n      <td>13.000000</td>\n      <td>1.977000e+03</td>\n      <td>0.075424</td>\n      <td>25.000000</td>\n      <td>5285.000000</td>\n      <td>2.000000</td>\n      <td>900.000000</td>\n      <td>1.000000</td>\n      <td>3.000000</td>\n      <td>192269.644879</td>\n    </tr>\n    <tr>\n      <th>75%</th>\n      <td>75.000000</td>\n      <td>2.000000</td>\n      <td>65.900625</td>\n      <td>45.128803</td>\n      <td>9.000000</td>\n      <td>12.000000</td>\n      <td>17.000000</td>\n      <td>2.001000e+03</td>\n      <td>0.195781</td>\n      <td>36.000000</td>\n      <td>7227.000000</td>\n      <td>5.000000</td>\n      <td>1548.000000</td>\n      <td>2.000000</td>\n      <td>6.000000</td>\n      <td>249135.462171</td>\n    </tr>\n    <tr>\n      <th>max</th>\n      <td>209.000000</td>\n      <td>19.000000</td>\n      <td>641.065193</td>\n      <td>7480.592129</td>\n      <td>2014.000000</td>\n      <td>42.000000</td>\n      <td>117.000000</td>\n      <td>2.005201e+07</td>\n      <td>0.521867</td>\n      <td>74.000000</td>\n      <td>19083.000000</td>\n      <td>141.000000</td>\n      <td>4849.000000</td>\n      <td>6.000000</td>\n      <td>23.000000</td>\n      <td>633233.466570</td>\n    </tr>\n  </tbody>\n</table>\n</div>"
     },
     "execution_count": 118,
     "metadata": {},
     "output_type": "execute_result"
    }
   ],
   "source": [
    "df.describe()"
   ],
   "metadata": {
    "collapsed": false,
    "pycharm": {
     "name": "#%%\n"
    }
   }
  },
  {
   "cell_type": "markdown",
   "source": [
    "Если внимательно рассматривать данные, можно заметить, что есть несколько ошибок в указании года, площадей и, вероятно, комнат. Если комнат очень много, то это скорее всего ошибка. А если 0, то не известно. При детальном изучении можно заметить определенные отношения. Почистим данные."
   ],
   "metadata": {
    "collapsed": false,
    "pycharm": {
     "name": "#%% md\n"
    }
   }
  },
  {
   "cell_type": "code",
   "execution_count": 119,
   "outputs": [
    {
     "name": "stdout",
     "output_type": "stream",
     "text": [
      "Memory usage of dataframe is 1.45 MB\n",
      "Memory usage after optimization is: 0.47 MB\n",
      "Decreased by 67.7%\n"
     ]
    }
   ],
   "source": [
    "df = preproc.clear(df)"
   ],
   "metadata": {
    "collapsed": false,
    "pycharm": {
     "name": "#%%\n"
    }
   }
  },
  {
   "cell_type": "markdown",
   "source": [
    "Посмотрим на распределение цены"
   ],
   "metadata": {
    "collapsed": false,
    "pycharm": {
     "name": "#%% md\n"
    }
   }
  },
  {
   "cell_type": "code",
   "execution_count": 120,
   "outputs": [
    {
     "data": {
      "text/plain": "<Figure size 540x360 with 1 Axes>",
      "image/png": "[encoded data removed]"
     },
     "metadata": {},
     "output_type": "display_data"
    }
   ],
   "source": [
    "preproc.show_distribution(df, 'Price')"
   ],
   "metadata": {
    "collapsed": false,
    "pycharm": {
     "name": "#%%\n"
    }
   }
  },
  {
   "cell_type": "markdown",
   "source": [
    "Вполне хорошее, без скачков и с 1 пиком. Несимметричное. С хвостом."
   ],
   "metadata": {
    "collapsed": false,
    "pycharm": {
     "name": "#%% md\n"
    }
   }
  },
  {
   "cell_type": "markdown",
   "source": [
    "Создадим объект, который будет добавлять новые признаки"
   ],
   "metadata": {
    "collapsed": false,
    "pycharm": {
     "name": "#%% md\n"
    }
   }
  },
  {
   "cell_type": "code",
   "execution_count": 121,
   "outputs": [],
   "source": [
    "feat = Features(df)"
   ],
   "metadata": {
    "collapsed": false,
    "pycharm": {
     "name": "#%%\n"
    }
   }
  },
  {
   "cell_type": "markdown",
   "source": [
    "Добавим цену за метр и объемы выборки по районам."
   ],
   "metadata": {
    "collapsed": false,
    "pycharm": {
     "name": "#%% md\n"
    }
   }
  },
  {
   "cell_type": "code",
   "execution_count": 122,
   "outputs": [],
   "source": [
    "df = feat.add_price_per_meter(df)\n",
    "df = feat.add_district_size(df)"
   ],
   "metadata": {
    "collapsed": false,
    "pycharm": {
     "name": "#%%\n"
    }
   }
  },
  {
   "cell_type": "markdown",
   "source": [
    "Посмотрим на цену за метр. Ближе к нормальному. 2 пика.\n",
    "\n",
    "Мне не удалось построить нормальную модель для предсказания цены за метр (при умножении на площадь эта ошибка в 0.1 соответственно увеличивается (Примерно раз в 5))."
   ],
   "metadata": {
    "collapsed": false,
    "pycharm": {
     "name": "#%% md\n"
    }
   }
  },
  {
   "cell_type": "code",
   "execution_count": 123,
   "outputs": [
    {
     "data": {
      "text/plain": "<Figure size 540x360 with 1 Axes>",
      "image/png": "[encoded data removed]"
     },
     "metadata": {},
     "output_type": "display_data"
    }
   ],
   "source": [
    "preproc.show_distribution(df, 'Price/m2')"
   ],
   "metadata": {
    "collapsed": false,
    "pycharm": {
     "name": "#%%\n"
    }
   }
  },
  {
   "cell_type": "markdown",
   "source": [
    "Посмотрим, сколько NA значений в датасете"
   ],
   "metadata": {
    "collapsed": false,
    "pycharm": {
     "name": "#%% md\n"
    }
   }
  },
  {
   "cell_type": "code",
   "execution_count": 124,
   "outputs": [
    {
     "name": "stdout",
     "output_type": "stream",
     "text": [
      "<class 'pandas.core.frame.DataFrame'>\n",
      "Int64Index: 10000 entries, 0 to 9999\n",
      "Data columns (total 21 columns):\n",
      " #   Column         Non-Null Count  Dtype  \n",
      "---  ------         --------------  -----  \n",
      " 0   DistrictId     10000 non-null  int16  \n",
      " 1   Rooms          10000 non-null  float32\n",
      " 2   Square         10000 non-null  float32\n",
      " 3   LifeSquare     7887 non-null   float32\n",
      " 4   KitchenSquare  10000 non-null  float32\n",
      " 5   Floor          10000 non-null  int8   \n",
      " 6   HouseFloor     10000 non-null  float32\n",
      " 7   HouseYear      10000 non-null  int32  \n",
      " 8   Ecology_1      10000 non-null  float32\n",
      " 9   Ecology_2      10000 non-null  int64  \n",
      " 10  Ecology_3      10000 non-null  int64  \n",
      " 11  Social_1       10000 non-null  int8   \n",
      " 12  Social_2       10000 non-null  int16  \n",
      " 13  Social_3       10000 non-null  int16  \n",
      " 14  Healthcare_1   5202 non-null   float32\n",
      " 15  Helthcare_2    10000 non-null  int8   \n",
      " 16  Shops_1        10000 non-null  int8   \n",
      " 17  Shops_2        10000 non-null  int64  \n",
      " 18  Price          10000 non-null  float32\n",
      " 19  Price/m2       10000 non-null  float32\n",
      " 20  DistrictSize   10000 non-null  int64  \n",
      "dtypes: float32(9), int16(3), int32(1), int64(4), int8(4)\n",
      "memory usage: 878.9 KB\n"
     ]
    }
   ],
   "source": [
    "df.info()"
   ],
   "metadata": {
    "collapsed": false,
    "pycharm": {
     "name": "#%%\n"
    }
   }
  },
  {
   "cell_type": "markdown",
   "source": [
    "Страдают LifeSquare и Healthcare_1. Много пропусков. В тестовом наборе процент пропусков примерно такой же. Поэтому надо как-то лечить.\n",
    "\n",
    "Специально для них есть 2 функции, которые пытаются адекватно закрыть эти дыры. Они же показывают R2 score для этих предсказаний по обучающим данным и распределение. Для LifeSquare маловато, но лучше, чем медианное значение.\n",
    "\n",
    "Гистограммы показывают, как признаки распределены. Если заменять медианой или каким-либо конкретным значением, то будет один большой пик на фоне нормального распределения. Это не очень хорошо."
   ],
   "metadata": {
    "collapsed": false,
    "pycharm": {
     "name": "#%% md\n"
    }
   }
  },
  {
   "cell_type": "code",
   "execution_count": 125,
   "outputs": [
    {
     "name": "stdout",
     "output_type": "stream",
     "text": [
      "R2 for LifeSquare training set: 0.7861245256489092\n"
     ]
    },
    {
     "data": {
      "text/plain": "<Figure size 540x360 with 1 Axes>",
      "image/png": "[encoded data removed]"
     },
     "metadata": {},
     "output_type": "display_data"
    }
   ],
   "source": [
    "df = preproc.fix_life_square(df)"
   ],
   "metadata": {
    "collapsed": false,
    "pycharm": {
     "name": "#%%\n"
    }
   }
  },
  {
   "cell_type": "code",
   "execution_count": 126,
   "outputs": [
    {
     "name": "stdout",
     "output_type": "stream",
     "text": [
      "R2 for Healthcare_1 training set: 0.9745970404875988\n"
     ]
    },
    {
     "data": {
      "text/plain": "<Figure size 540x360 with 1 Axes>",
      "image/png": "[encoded data removed]"
     },
     "metadata": {},
     "output_type": "display_data"
    }
   ],
   "source": [
    "df = preproc.fix_healthcare_1(df)"
   ],
   "metadata": {
    "collapsed": false,
    "pycharm": {
     "name": "#%%\n"
    }
   }
  },
  {
   "cell_type": "markdown",
   "source": [
    "Добавим несколько новых признаков. Это признаки на основе groupby и price: median в качестве аггрегационной функции.\n",
    "Это даст примерное представление о ценах по выбранным признакам."
   ],
   "metadata": {
    "collapsed": false,
    "pycharm": {
     "name": "#%% md\n"
    }
   }
  },
  {
   "cell_type": "code",
   "execution_count": 127,
   "outputs": [],
   "source": [
    "df = feat.new(['Ecology_1', 'Ecology_2', 'Ecology_3'], 'Price', df)\n",
    "df = feat.new(['DistrictId', 'Rooms'], 'Price/m2', df)\n",
    "df = feat.new(['DistrictId', 'Social_2', 'Social_1'], 'Price', df)\n",
    "df = feat.new(['Healthcare_1', 'Helthcare_2'], 'Price/m2', df)"
   ],
   "metadata": {
    "collapsed": false,
    "pycharm": {
     "name": "#%%\n"
    }
   }
  },
  {
   "cell_type": "markdown",
   "source": [
    "Проверим, все ли в порядке"
   ],
   "metadata": {
    "collapsed": false,
    "pycharm": {
     "name": "#%% md\n"
    }
   }
  },
  {
   "cell_type": "code",
   "execution_count": 128,
   "outputs": [
    {
     "name": "stdout",
     "output_type": "stream",
     "text": [
      "<class 'pandas.core.frame.DataFrame'>\n",
      "Int64Index: 10000 entries, 0 to 9999\n",
      "Data columns (total 25 columns):\n",
      " #   Column         Non-Null Count  Dtype  \n",
      "---  ------         --------------  -----  \n",
      " 0   DistrictId     10000 non-null  int16  \n",
      " 1   Rooms          10000 non-null  float32\n",
      " 2   Square         10000 non-null  float32\n",
      " 3   LifeSquare     10000 non-null  float32\n",
      " 4   KitchenSquare  10000 non-null  float32\n",
      " 5   Floor          10000 non-null  int8   \n",
      " 6   HouseFloor     10000 non-null  float32\n",
      " 7   HouseYear      10000 non-null  int32  \n",
      " 8   Ecology_1      10000 non-null  float32\n",
      " 9   Ecology_2      10000 non-null  int64  \n",
      " 10  Ecology_3      10000 non-null  int64  \n",
      " 11  Social_1       10000 non-null  int8   \n",
      " 12  Social_2       10000 non-null  int16  \n",
      " 13  Social_3       10000 non-null  int16  \n",
      " 14  Healthcare_1   10000 non-null  float32\n",
      " 15  Helthcare_2    10000 non-null  int8   \n",
      " 16  Shops_1        10000 non-null  int8   \n",
      " 17  Shops_2        10000 non-null  int64  \n",
      " 18  Price          10000 non-null  float32\n",
      " 19  Price/m2       10000 non-null  float32\n",
      " 20  DistrictSize   10000 non-null  int64  \n",
      " 21  Med0Price      10000 non-null  float32\n",
      " 22  Med1Price/m2   10000 non-null  float32\n",
      " 23  Med2Price      10000 non-null  float32\n",
      " 24  Med3Price/m2   10000 non-null  float32\n",
      "dtypes: float32(13), int16(3), int32(1), int64(4), int8(4)\n",
      "memory usage: 1.0 MB\n"
     ]
    }
   ],
   "source": [
    "df.info()"
   ],
   "metadata": {
    "collapsed": false,
    "pycharm": {
     "name": "#%%\n"
    }
   }
  },
  {
   "cell_type": "markdown",
   "source": [
    "Нет NA. Можно продолжать"
   ],
   "metadata": {
    "collapsed": false,
    "pycharm": {
     "name": "#%% md\n"
    }
   }
  },
  {
   "cell_type": "markdown",
   "source": [],
   "metadata": {
    "collapsed": false,
    "pycharm": {
     "name": "#%% md\n"
    }
   }
  },
  {
   "cell_type": "code",
   "execution_count": 129,
   "outputs": [],
   "source": [
    "# df = feat.clusterize_kmeans(df)"
   ],
   "metadata": {
    "collapsed": false,
    "pycharm": {
     "name": "#%%\n"
    }
   }
  },
  {
   "cell_type": "markdown",
   "source": [
    "Сформируем обучающие данные."
   ],
   "metadata": {
    "collapsed": false,
    "pycharm": {
     "name": "#%% md\n"
    }
   }
  },
  {
   "cell_type": "code",
   "execution_count": 130,
   "outputs": [],
   "source": [
    "X = df.drop(['Price', 'Price/m2'], axis=1)\n",
    "y = df['Price']"
   ],
   "metadata": {
    "collapsed": false,
    "pycharm": {
     "name": "#%%\n"
    }
   }
  },
  {
   "cell_type": "markdown",
   "source": [
    "Создадим GradientBoostingRegressor. Был проведен GridSearch. Лучшие параметры спрятаны в объекте."
   ],
   "metadata": {
    "collapsed": false,
    "pycharm": {
     "name": "#%% md\n"
    }
   }
  },
  {
   "cell_type": "code",
   "execution_count": 131,
   "outputs": [],
   "source": [
    "model = Model()"
   ],
   "metadata": {
    "collapsed": false,
    "pycharm": {
     "name": "#%%\n"
    }
   }
  },
  {
   "cell_type": "code",
   "execution_count": 132,
   "outputs": [],
   "source": [
    "# model.cross_val(X, y)"
   ],
   "metadata": {
    "collapsed": false,
    "pycharm": {
     "name": "#%%\n"
    }
   }
  },
  {
   "cell_type": "code",
   "execution_count": 133,
   "outputs": [],
   "source": [
    "model.fit(X, y)"
   ],
   "metadata": {
    "collapsed": false,
    "pycharm": {
     "name": "#%%\n"
    }
   }
  },
  {
   "cell_type": "markdown",
   "source": [
    "Посмотрим на важность признаков. Интересно, что добавленные признаки оказались важнее, чем, например, непосредственно, количество комнат или год постройки."
   ],
   "metadata": {
    "collapsed": false,
    "pycharm": {
     "name": "#%% md\n"
    }
   }
  },
  {
   "cell_type": "code",
   "execution_count": 134,
   "outputs": [
    {
     "name": "stdout",
     "output_type": "stream",
     "text": [
      "     feature_name  importance\n",
      "2          Square    0.436269\n",
      "22   Med3Price/m2    0.201758\n",
      "21      Med2Price    0.174741\n",
      "20   Med1Price/m2    0.065181\n",
      "1           Rooms    0.024019\n",
      "7       HouseYear    0.015631\n",
      "6      HouseFloor    0.010754\n",
      "3      LifeSquare    0.010493\n",
      "13       Social_3    0.008505\n",
      "5           Floor    0.008331\n",
      "4   KitchenSquare    0.008301\n",
      "19      Med0Price    0.006978\n",
      "18   DistrictSize    0.005531\n",
      "14   Healthcare_1    0.005384\n",
      "8       Ecology_1    0.004388\n",
      "0      DistrictId    0.003495\n",
      "16        Shops_1    0.003404\n",
      "12       Social_2    0.002990\n",
      "11       Social_1    0.002877\n",
      "15    Helthcare_2    0.000897\n",
      "10      Ecology_3    0.000060\n",
      "17        Shops_2    0.000013\n",
      "9       Ecology_2    0.000000\n"
     ]
    }
   ],
   "source": [
    "model.show_feature_importances()"
   ],
   "metadata": {
    "collapsed": false,
    "pycharm": {
     "name": "#%%\n"
    }
   }
  },
  {
   "cell_type": "markdown",
   "source": [
    "Теперь тестовые данные. Все то же самое, только короче."
   ],
   "metadata": {
    "collapsed": false,
    "pycharm": {
     "name": "#%% md\n"
    }
   }
  },
  {
   "cell_type": "markdown",
   "source": [
    "# Test data preprocessing"
   ],
   "metadata": {
    "collapsed": false,
    "pycharm": {
     "name": "#%% md\n"
    }
   }
  },
  {
   "cell_type": "code",
   "execution_count": 135,
   "outputs": [
    {
     "name": "stdout",
     "output_type": "stream",
     "text": [
      "Memory usage of dataframe is 0.72 MB\n",
      "Memory usage after optimization is: 0.22 MB\n",
      "Decreased by 70.3%\n",
      "R2 for LifeSquare training set: 0.6103142034944029\n",
      "R2 for Healthcare_1 training set: 0.933876196936269\n"
     ]
    },
    {
     "data": {
      "text/plain": "<Figure size 540x360 with 1 Axes>",
      "image/png": "[encoded data removed]"
     },
     "metadata": {},
     "output_type": "display_data"
    },
    {
     "data": {
      "text/plain": "<Figure size 540x360 with 1 Axes>",
      "image/png": "[encoded data removed]"
     },
     "metadata": {},
     "output_type": "display_data"
    }
   ],
   "source": [
    "test_df = preproc.clear(test_data)\n",
    "\n",
    "test_df = feat.add_district_size(test_df)\n",
    "\n",
    "test_df = preproc.fix_life_square(test_df)\n",
    "test_df = preproc.fix_healthcare_1(test_df)\n",
    "\n",
    "test_df = feat.append_all_added_features(test_df)"
   ],
   "metadata": {
    "collapsed": false,
    "pycharm": {
     "name": "#%%\n"
    }
   }
  },
  {
   "cell_type": "code",
   "execution_count": 136,
   "outputs": [
    {
     "name": "stdout",
     "output_type": "stream",
     "text": [
      "<class 'pandas.core.frame.DataFrame'>\n",
      "Int64Index: 5000 entries, 0 to 4999\n",
      "Data columns (total 24 columns):\n",
      " #   Column         Non-Null Count  Dtype  \n",
      "---  ------         --------------  -----  \n",
      " 0   Id             5000 non-null   int16  \n",
      " 1   DistrictId     5000 non-null   int16  \n",
      " 2   Rooms          5000 non-null   float32\n",
      " 3   Square         5000 non-null   float32\n",
      " 4   LifeSquare     5000 non-null   float32\n",
      " 5   KitchenSquare  5000 non-null   float32\n",
      " 6   Floor          5000 non-null   int8   \n",
      " 7   HouseFloor     5000 non-null   float32\n",
      " 8   HouseYear      5000 non-null   int16  \n",
      " 9   Ecology_1      5000 non-null   float32\n",
      " 10  Ecology_2      5000 non-null   int64  \n",
      " 11  Ecology_3      5000 non-null   int64  \n",
      " 12  Social_1       5000 non-null   int8   \n",
      " 13  Social_2       5000 non-null   int16  \n",
      " 14  Social_3       5000 non-null   int16  \n",
      " 15  Healthcare_1   5000 non-null   float32\n",
      " 16  Helthcare_2    5000 non-null   int8   \n",
      " 17  Shops_1        5000 non-null   int8   \n",
      " 18  Shops_2        5000 non-null   int64  \n",
      " 19  DistrictSize   5000 non-null   float64\n",
      " 20  Med0Price      5000 non-null   float32\n",
      " 21  Med1Price/m2   5000 non-null   float32\n",
      " 22  Med2Price      5000 non-null   float32\n",
      " 23  Med3Price/m2   5000 non-null   float32\n",
      "dtypes: float32(11), float64(1), int16(5), int64(3), int8(4)\n",
      "memory usage: 478.5 KB\n"
     ]
    }
   ],
   "source": [
    "# Проверка на отсутствие NA\n",
    "test_df.info()"
   ],
   "metadata": {
    "collapsed": false,
    "pycharm": {
     "name": "#%%\n"
    }
   }
  },
  {
   "cell_type": "code",
   "execution_count": 137,
   "outputs": [],
   "source": [
    "y_pred = model.predict(test_df.drop('Id', axis=1))"
   ],
   "metadata": {
    "collapsed": false,
    "pycharm": {
     "name": "#%%\n"
    }
   }
  },
  {
   "cell_type": "code",
   "execution_count": 138,
   "outputs": [
    {
     "name": "stdout",
     "output_type": "stream",
     "text": [
      "               Price\n",
      "Id                  \n",
      "4567   171586.011277\n",
      "5925   122863.281647\n",
      "960    139760.283182\n",
      "3848   153778.535894\n",
      "746    186407.719533\n",
      "...              ...\n",
      "10379  175514.025214\n",
      "16138  361493.833582\n",
      "3912   150772.370197\n",
      "5722   193453.418416\n",
      "11004  244627.704949\n",
      "\n",
      "[5000 rows x 1 columns]\n"
     ]
    }
   ],
   "source": [
    "model.create_csv(y_pred)"
   ],
   "metadata": {
    "collapsed": false,
    "pycharm": {
     "name": "#%%\n"
    }
   }
  },
  {
   "cell_type": "code",
   "execution_count": 139,
   "outputs": [
    {
     "data": {
      "text/plain": "               Price\nId                  \n4567   171586.011277\n5925   122863.281647\n960    139760.283182\n3848   153778.535894\n746    186407.719533\n...              ...\n10379  175514.025214\n16138  361493.833582\n3912   150772.370197\n5722   193453.418416\n11004  244627.704949\n\n[5000 rows x 1 columns]",
      "text/html": "<div>\n<style scoped>\n    .dataframe tbody tr th:only-of-type {\n        vertical-align: middle;\n    }\n\n    .dataframe tbody tr th {\n        vertical-align: top;\n    }\n\n    .dataframe thead th {\n        text-align: right;\n    }\n</style>\n<table border=\"1\" class=\"dataframe\">\n  <thead>\n    <tr style=\"text-align: right;\">\n      <th></th>\n      <th>Price</th>\n    </tr>\n    <tr>\n      <th>Id</th>\n      <th></th>\n    </tr>\n  </thead>\n  <tbody>\n    <tr>\n      <th>4567</th>\n      <td>171586.011277</td>\n    </tr>\n    <tr>\n      <th>5925</th>\n      <td>122863.281647</td>\n    </tr>\n    <tr>\n      <th>960</th>\n      <td>139760.283182</td>\n    </tr>\n    <tr>\n      <th>3848</th>\n      <td>153778.535894</td>\n    </tr>\n    <tr>\n      <th>746</th>\n      <td>186407.719533</td>\n    </tr>\n    <tr>\n      <th>...</th>\n      <td>...</td>\n    </tr>\n    <tr>\n      <th>10379</th>\n      <td>175514.025214</td>\n    </tr>\n    <tr>\n      <th>16138</th>\n      <td>361493.833582</td>\n    </tr>\n    <tr>\n      <th>3912</th>\n      <td>150772.370197</td>\n    </tr>\n    <tr>\n      <th>5722</th>\n      <td>193453.418416</td>\n    </tr>\n    <tr>\n      <th>11004</th>\n      <td>244627.704949</td>\n    </tr>\n  </tbody>\n</table>\n<p>5000 rows × 1 columns</p>\n</div>"
     },
     "execution_count": 139,
     "metadata": {},
     "output_type": "execute_result"
    }
   ],
   "source": [
    "result = pd.DataFrame(y_pred, columns=['Price'])\n",
    "result.set_index(test_data['Id'], inplace=True)\n",
    "result"
   ],
   "metadata": {
    "collapsed": false,
    "pycharm": {
     "name": "#%%\n"
    }
   }
  },
  {
   "cell_type": "code",
   "execution_count": 140,
   "outputs": [],
   "source": [
    "result.to_csv('AllaMaksina_predictions_20.csv')"
   ],
   "metadata": {
    "collapsed": false,
    "pycharm": {
     "name": "#%%\n"
    }
   }
  },
  {
   "cell_type": "code",
   "execution_count": 141,
   "outputs": [],
   "source": [
    "# kaggle утверждает, что score = 0.76726"
   ],
   "metadata": {
    "collapsed": false,
    "pycharm": {
     "name": "#%%\n"
    }
   }
  },
  {
   "cell_type": "markdown",
   "source": [
    "Все очень сырое. Нужно оформить. Много экспериментов было. Здесь только самое основное."
   ],
   "metadata": {
    "collapsed": false,
    "pycharm": {
     "name": "#%% md\n"
    }
   }
  },
  {
   "cell_type": "code",
   "execution_count": 141,
   "outputs": [],
   "source": [],
   "metadata": {
    "collapsed": false,
    "pycharm": {
     "name": "#%%\n"
    }
   }
  }
 ],
 "metadata": {
  "kernelspec": {
   "display_name": "Python 3",
   "language": "python",
   "name": "python3"
  },
  "language_info": {
   "codemirror_mode": {
    "name": "ipython",
    "version": 2
   },
   "file_extension": ".py",
   "mimetype": "text/x-python",
   "name": "python",
   "nbconvert_exporter": "python",
   "pygments_lexer": "ipython2",
   "version": "2.7.6"
  }
 },
 "nbformat": 4,
 "nbformat_minor": 0
}